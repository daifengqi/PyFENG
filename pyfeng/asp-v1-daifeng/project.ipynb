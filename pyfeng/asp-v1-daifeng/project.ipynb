{
 "cells": [
  {
   "cell_type": "code",
   "execution_count": 1,
   "id": "85aa148e",
   "metadata": {},
   "outputs": [
    {
     "name": "stdout",
     "output_type": "stream",
     "text": [
      "pip 21.0.1 from /Users/cescqi/PycharmProjects/venvCollection/phbs/lib/python3.7/site-packages/pip (python 3.7)\r\n"
     ]
    }
   ],
   "source": [
    "!pip -V"
   ]
  },
  {
   "cell_type": "markdown",
   "id": "5efaddd4",
   "metadata": {},
   "source": [
    "### 1. Introduction\n",
    "\n",
    "We suppose that the price at time t,$S_t$, is given by\n",
    "$$\n",
    "S_t = S_0exp(\\sigma B_t-\\frac{1}{2}\\sigma^2t+ct)\n",
    "$$\n",
    "where B is a standard one-dimensional Brownian motion, $c=r$ is riskless interest rate."
   ]
  },
  {
   "cell_type": "markdown",
   "id": "581f1b7e",
   "metadata": {},
   "source": [
    "We want to calculate\n",
    "$$\n",
    "E(Y-K)^+\n",
    "$$\n",
    "where we define Y by\n",
    "$$\n",
    "Y\\equiv \\int_0^T S_u\\mu (du)\n",
    "$$"
   ]
  },
  {
   "cell_type": "markdown",
   "id": "eab4f792",
   "metadata": {},
   "source": [
    "similarly, for a Discretely monitored Asian option, we have\n",
    "$$\n",
    "C(T)=(\\sum_{k=1}^N w_kS_k(t_k) - K)^+\n",
    "$$\n",
    "where, $w_k=1/N,\\ 0\\le t_1<...<t_N=T$ and $S_k(t)$s are identical; $N\\gg10$."
   ]
  },
  {
   "cell_type": "markdown",
   "id": "2be566e6",
   "metadata": {},
   "source": [
    "**Let's give a Python example with fixed strike.**"
   ]
  },
  {
   "cell_type": "code",
   "execution_count": 2,
   "id": "7d70e640",
   "metadata": {},
   "outputs": [],
   "source": [
    "import numpy as np\n",
    "\n",
    "def simulate_single_price__path(spot, sigma, nsteps, texp, intr=0.0):\n",
    "    '''generate single simulated path of price of assets'''\n",
    "    \n",
    "    if isinstance(sigma, (int, float)):\n",
    "        sigma = [sigma] * nsteps\n",
    "        \n",
    "    dt = texp/nsteps\n",
    "    sqdt = np.sqrt(dt)\n",
    "    log_price = np.log(spot)\n",
    "    log_price_path = np.empty(nsteps)\n",
    "    log_price_path[0] = log_price\n",
    "    \n",
    "    wt = np.random.normal(0, 1, nsteps)\n",
    "    for i in range(1, nsteps):\n",
    "        log_price_path[i] = log_price_path[i-1] + sigma[i]*sqdt*wt[i]-0.5*sigma[i]**2*dt + intr*dt\n",
    "    \n",
    "    price_path = np.exp(log_price_path)\n",
    "    \n",
    "    return price_path\n",
    "\n",
    "def simulate_multiple_price_path(spot, sigma, nsteps, texp, npath, intr=0.0):\n",
    "    '''generate multiple paths of asset price'''\n",
    "    \n",
    "    prices_path = np.empty((npath, nsteps))\n",
    "    for i in range(npath):\n",
    "        prices_path[i, :] = simulate_single_price__path(spot, sigma, nsteps, texp, intr)\n",
    "        \n",
    "    return prices_path\n",
    "\n",
    "\n",
    "def solve_asian_option_price_mc(strike, price, cp=1):\n",
    "    '''given path of price and strikes, sovle the price of an Asian option'''\n",
    "    \n",
    "    npath, nsteps = price.shape\n",
    "    if isinstance(strike, (int, float)):\n",
    "        strike = [strike] * npath\n",
    "        \n",
    "    price_on_path = np.empty(npath)\n",
    "    for i in range(npath):\n",
    "        if cp == 1:\n",
    "            price_on_path[i] = np.fmax(np.mean(price[i, :])-strike[i], 0)\n",
    "        else:\n",
    "            price_on_path[i] = np.fmax(strike[i]-np.mean(price[i, :]), 0)\n",
    "    \n",
    "    \n",
    "    return np.mean(price_on_path)"
   ]
  },
  {
   "cell_type": "code",
   "execution_count": 3,
   "id": "2837cd75",
   "metadata": {
    "scrolled": true
   },
   "outputs": [
    {
     "data": {
      "text/plain": [
       "array([100.        ,  99.53781596, 100.04173781, 100.27891706,\n",
       "       101.22916525, 101.61724256, 101.19097114, 101.43998789,\n",
       "       102.61424011, 103.33202649, 101.64724273, 100.970429  ,\n",
       "       101.70358691, 102.12139342, 102.82504078, 105.79921616,\n",
       "       106.06045077, 104.80265891, 103.97098766, 105.28611347,\n",
       "       104.80793555, 104.27599282, 104.47284298, 107.32196278,\n",
       "       106.12157635, 106.84197729, 108.44769961, 108.17220381,\n",
       "       106.98153426, 107.7664782 ])"
      ]
     },
     "execution_count": 3,
     "metadata": {},
     "output_type": "execute_result"
    }
   ],
   "source": [
    "spot = 100\n",
    "sigma = 0.05\n",
    "nsteps = 30\n",
    "texp = 1\n",
    "intr = 0.05\n",
    "\n",
    "price_path = simulate_single_price__path(spot, sigma, nsteps, texp, intr)\n",
    "price_path"
   ]
  },
  {
   "cell_type": "code",
   "execution_count": 4,
   "id": "fb97cfc7",
   "metadata": {
    "scrolled": true
   },
   "outputs": [
    {
     "data": {
      "text/plain": [
       "array([[100.        , 101.93331326, 102.17213891, ..., 107.67333394,\n",
       "        106.63995158, 106.27033391],\n",
       "       [100.        ,  99.99152873,  99.33716646, ..., 105.9977183 ,\n",
       "        105.77316316, 106.85238147],\n",
       "       [100.        ,  98.66663376,  98.02472512, ..., 100.14569927,\n",
       "         99.30133907,  99.95497249],\n",
       "       ...,\n",
       "       [100.        , 101.06686221, 101.48440376, ..., 105.76398524,\n",
       "        105.59881707, 104.81118926],\n",
       "       [100.        ,  99.61680235, 101.22445305, ..., 101.88584558,\n",
       "        100.51205788, 102.29124677],\n",
       "       [100.        ,  99.79984946, 100.92218647, ..., 107.94123552,\n",
       "        108.83250333, 109.07788296]])"
      ]
     },
     "execution_count": 4,
     "metadata": {},
     "output_type": "execute_result"
    }
   ],
   "source": [
    "npath = 10000\n",
    "\n",
    "prices_path = simulate_multiple_price_path(spot, sigma, nsteps, texp, npath, intr)\n",
    "prices_path"
   ]
  },
  {
   "cell_type": "markdown",
   "id": "4b4443a2",
   "metadata": {},
   "source": [
    "### MC result of option price"
   ]
  },
  {
   "cell_type": "code",
   "execution_count": 6,
   "id": "2f1b3b81",
   "metadata": {},
   "outputs": [
    {
     "name": "stdout",
     "output_type": "stream",
     "text": [
      "The Asian option price with fixed strike is 2.8028620544557636\n"
     ]
    }
   ],
   "source": [
    "strike = 100\n",
    "\n",
    "asian_option_price_fixed = solve_asian_option_price_mc(strike, prices_path)\n",
    "print(f'The Asian option price with fixed strike is {asian_option_price_fixed}')"
   ]
  },
  {
   "cell_type": "code",
   "execution_count": 14,
   "id": "cb39fee3",
   "metadata": {},
   "outputs": [
    {
     "name": "stdout",
     "output_type": "stream",
     "text": [
      "The Asian option price with floating strike is 1.2455038235427935\n"
     ]
    }
   ],
   "source": [
    "sigma = 0.1\n",
    "intr = 0.05\n",
    "prices_path = simulate_multiple_price_path(spot, sigma, nsteps, texp, npath, intr)\n",
    "\n",
    "strike = prices_path[:, nsteps-1]\n",
    "\n",
    "asian_option_price_floating = solve_asian_option_price_mc(strike, prices_path)\n",
    "print(f'The Asian option price with floating strike is {asian_option_price_floating}')"
   ]
  },
  {
   "cell_type": "markdown",
   "id": "ebdcc459",
   "metadata": {},
   "source": [
    "These two results are similar to the paper."
   ]
  },
  {
   "cell_type": "markdown",
   "id": "9ed613f3",
   "metadata": {},
   "source": [
    "### Validation\n",
    "An Asian option price is usually lower than European or American, because of lower volatility, so let's validate that."
   ]
  },
  {
   "cell_type": "code",
   "execution_count": 8,
   "id": "bbe1b7b9",
   "metadata": {
    "scrolled": true
   },
   "outputs": [
    {
     "name": "stdout",
     "output_type": "stream",
     "text": [
      "The European option price is 1.9945036390476076\n"
     ]
    }
   ],
   "source": [
    "import pyfeng as pf\n",
    "\n",
    "strike = 100\n",
    "euro_option_price = pf.Bsm.price_formula(strike, spot, sigma, texp)\n",
    "print(f'The European option price is {euro_option_price}')"
   ]
  },
  {
   "cell_type": "markdown",
   "id": "046e1e73",
   "metadata": {},
   "source": [
    "### 2. PDE for the price of an Asian option"
   ]
  },
  {
   "cell_type": "markdown",
   "id": "f00af384",
   "metadata": {},
   "source": [
    "for a fixed strike option, we have\n",
    "$$\n",
    "e^{-rT}E(\\int_0^T(S_u-K)\\frac{du}{T})^+=S_0f(0,KS_0^{-1}) \\\\\n",
    "\\equiv e^{-rT}S_0\\phi(0, KS_0^{-1})\n",
    "$$"
   ]
  },
  {
   "cell_type": "markdown",
   "id": "b7d0c2af",
   "metadata": {},
   "source": [
    "for a floating strike option, we have\n",
    "$$\n",
    "e^{-rT}E(\\int_0^TS_u\\frac{du}{T}-S_T)^+ = e^{-rT}S_0\\psi(0,0)\n",
    "$$"
   ]
  },
  {
   "cell_type": "markdown",
   "id": "2d160cd9",
   "metadata": {},
   "source": [
    "where \n",
    "\n",
    "$\\phi(t,x)=r^{-1}(e^{r(T-t)-1}-x),$ and $(x\\le0)$;\n",
    "\n",
    "$\\psi(t,x)=\\frac{e^{r(T-t)}-1}{rT}-e^{r(T-t)}-x$, and $x$ is large negative;"
   ]
  },
  {
   "cell_type": "markdown",
   "id": "2158c52a",
   "metadata": {},
   "source": [
    "There should be a numerical method to solve this using *NAG D03PAF*."
   ]
  },
  {
   "cell_type": "markdown",
   "id": "ddd025c4",
   "metadata": {},
   "source": [
    "### 3. Lower Bound"
   ]
  },
  {
   "cell_type": "markdown",
   "id": "5f8c4316",
   "metadata": {},
   "source": [
    "#### Definition"
   ]
  },
  {
   "cell_type": "markdown",
   "id": "0f99abb0",
   "metadata": {},
   "source": [
    "To obtain a lower bound, we have\n",
    "$$\n",
    "E(Y^+)=E(E(Y^+|Z))\\ge E(E(Y|Z)^+)\n",
    "$$\n",
    "the right side is the lower bound."
   ]
  },
  {
   "cell_type": "markdown",
   "id": "f5f029ff",
   "metadata": {},
   "source": [
    "#### Compute the Mean"
   ]
  },
  {
   "cell_type": "markdown",
   "id": "b8db189f",
   "metadata": {},
   "source": [
    "Let's first simplify the question to $S_0=1$."
   ]
  },
  {
   "cell_type": "markdown",
   "id": "eccd364a",
   "metadata": {},
   "source": [
    "Firstly we need to compute the mean of $Y$, this is given by\n",
    "$$\n",
    "E[Y|Z]=\\int_0^1exp(\\sigma m_tZ-\\frac{1}{2}\\sigma^2\\nu m_t^2+rt)u(dt)\n",
    "$$\n",
    "where we let $Z=\\int_0^1B_tdt$, thus $m_t=3t(2-t)/2$, and $\\nu \\equiv Var(Z)=\\frac{1}{3}$"
   ]
  },
  {
   "cell_type": "markdown",
   "id": "f098be67",
   "metadata": {},
   "source": [
    "#### Compute the Variance"
   ]
  },
  {
   "cell_type": "markdown",
   "id": "cbc62421",
   "metadata": {},
   "source": [
    "Based on the mean expression, we can obtain the variance finally\n",
    "$$\n",
    "var(Y|Z) \\le I_1 + I_2\n",
    "$$\n",
    "where $I_1, I_2$ has long expressions which we do not display here."
   ]
  },
  {
   "cell_type": "markdown",
   "id": "539bb054",
   "metadata": {},
   "source": [
    "we turn to the estimates\n",
    "$$\n",
    "0\\le E[E(Y^+|Z]-E[Y|Z]^+]\\le \\frac{1}{2}E(I_1+I_2)^{1/2}\n",
    "$$"
   ]
  },
  {
   "cell_type": "markdown",
   "id": "44c00bca",
   "metadata": {},
   "source": [
    "we can compute the right side of above is\n",
    "$$\n",
    "\\frac{1}{2}[c\\sigma^2exp(c\\sigma^2+\\gamma_2)(\\frac{1}{2}\\sigma^2\\gamma_1\\nu exp(\\frac{1}{2}\\sigma^2\\gamma_1\\nu)+\\frac{1}{2}\\gamma_2^2)+\\frac{1}{2}\\sigma^4c^2exp(\\sigma^4c^2)(1+\\gamma_2)]^{1/2}M^{1/2}\n",
    "$$"
   ]
  },
  {
   "cell_type": "markdown",
   "id": "a8405472",
   "metadata": {},
   "source": [
    "for fixed strike, we may take that:\n",
    "\n",
    "$\\nu=1/3$\n",
    "\n",
    "$\\gamma_1=9$\n",
    "\n",
    "$\\gamma_2=r+\\sigma^2/4$\n",
    "\n",
    "$c=1/3$\n",
    "\n",
    "$M=1$"
   ]
  },
  {
   "cell_type": "markdown",
   "id": "9589fa5f",
   "metadata": {},
   "source": [
    "for floating strike, the differences are that\n",
    "\n",
    "$c=3^{2/3}/4$\n",
    "\n",
    "$M=4$"
   ]
  },
  {
   "cell_type": "markdown",
   "id": "96d69aa4",
   "metadata": {},
   "source": [
    "#### Summary\n",
    "The mean is to compute the lower bound and the variance is helpful to compute the upper bound."
   ]
  }
 ],
 "metadata": {
  "kernelspec": {
   "display_name": "phbs",
   "language": "python",
   "name": "phbs"
  },
  "language_info": {
   "codemirror_mode": {
    "name": "ipython",
    "version": 3
   },
   "file_extension": ".py",
   "mimetype": "text/x-python",
   "name": "python",
   "nbconvert_exporter": "python",
   "pygments_lexer": "ipython3",
   "version": "3.7.3"
  }
 },
 "nbformat": 4,
 "nbformat_minor": 5
}
